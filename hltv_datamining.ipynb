{
 "cells": [
  {
   "cell_type": "code",
   "execution_count": 1,
   "metadata": {
    "collapsed": true
   },
   "outputs": [],
   "source": [
    "from tqdm import tqdm\n",
    "import numpy as np\n",
    "import pandas as pd"
   ]
  },
  {
   "cell_type": "code",
   "execution_count": 2,
   "metadata": {
    "collapsed": true
   },
   "outputs": [],
   "source": [
    "from lxml import html\n",
    "import requests\n",
    "from lxml.cssselect import CSSSelector"
   ]
  },
  {
   "cell_type": "markdown",
   "metadata": {},
   "source": [
    "# Считывание информации"
   ]
  },
  {
   "cell_type": "markdown",
   "metadata": {},
   "source": [
    "## Top-20 команд по версии hltv.org"
   ]
  },
  {
   "cell_type": "code",
   "execution_count": 3,
   "metadata": {
    "collapsed": false
   },
   "outputs": [],
   "source": [
    "site_address = 'http://www.hltv.org'\n",
    "teams_rankings = requests.get(site_address + '/ranking/teams')\n",
    "teams_rankings_html = html.fromstring(teams_rankings.content)"
   ]
  },
  {
   "cell_type": "code",
   "execution_count": null,
   "metadata": {
    "collapsed": false
   },
   "outputs": [],
   "source": [
    "years = teams_rankings_html.xpath('//div[@class=\"tab_group1\"][1]//a')"
   ]
  },
  {
   "cell_type": "code",
   "execution_count": 4,
   "metadata": {
    "collapsed": false
   },
   "outputs": [],
   "source": [
    "teams_rankings_page_hrefs = []\n",
    "\n",
    "for year in years:\n",
    "    year_href = year.get('href')\n",
    "    year_page = requests.get(site_address + year_href)\n",
    "    year_page_html = html.fromstring(year_page.content)\n",
    "    year_monthes = year_page_html.xpath('//div[@class=\"tab_group1\"][2]//a')\n",
    "    \n",
    "    for month in year_monthes:\n",
    "        month_href = month.get('href')\n",
    "        month_page = requests.get(site_address + month_href)\n",
    "        month_page_html = html.fromstring(month_page.content)\n",
    "        month_days = month_page_html.xpath('//div[@class=\"tab_group1\"][3]//a')\n",
    "        teams_rankings_page_hrefs += [day.get('href') for day in month_days]"
   ]
  },
  {
   "cell_type": "code",
   "execution_count": 5,
   "metadata": {
    "collapsed": false,
    "scrolled": true
   },
   "outputs": [],
   "source": [
    "teams_rankings_page_hrefs = [site_address + page_href for page_href in teams_rankings_page_hrefs]"
   ]
  },
  {
   "cell_type": "code",
   "execution_count": 6,
   "metadata": {
    "collapsed": false
   },
   "outputs": [],
   "source": [
    "href = 'http://www.hltv.org/ranking/teams/2015/october/1/'\n",
    "ranking_page = requests.get(href)\n",
    "ranking_page_html = html.fromstring(ranking_page.content)\n",
    "teams_statistic_hrefs = ranking_page_html.xpath('//div[@class=\"ranking-teamStatistics\"]//a')\n",
    "teams_lineups_html = ranking_page_html.xpath('//div[@class=\"ranking-lineup\"]')\n",
    "teams = [href.get('href') for href in teams_statistic_hrefs]\n",
    "lineups = [[href.get('href') for href in lineup_html.xpath('.//div[@class=\"ranking-playerNick\"]//a')] \n",
    "           for lineup_html in teams_lineups_html]\n",
    "lineups = lineups"
   ]
  },
  {
   "cell_type": "code",
   "execution_count": 7,
   "metadata": {
    "collapsed": false
   },
   "outputs": [
    {
     "data": {
      "text/plain": [
       "['/?pageid=362&teamid=4991',\n",
       " '/?pageid=179&teamid=5996',\n",
       " '/?pageid=362&teamid=5991',\n",
       " '/?pageid=362&teamid=5378',\n",
       " '/?pageid=362&teamid=4608',\n",
       " '/?pageid=362&teamid=4411',\n",
       " '/?pageid=362&teamid=5752',\n",
       " '/?pageid=362&teamid=5995',\n",
       " '/?pageid=362&teamid=5422',\n",
       " '/?pageid=362&teamid=4494',\n",
       " '/?pageid=362&teamid=5974',\n",
       " '/?pageid=362&teamid=6290',\n",
       " '/?pageid=362&teamid=5988',\n",
       " '/?pageid=362&teamid=5973',\n",
       " '/?pageid=179&teamid=5284',\n",
       " '/?pageid=179&teamid=6226',\n",
       " '/?pageid=362&teamid=5310',\n",
       " '/?pageid=362&teamid=6211',\n",
       " '/?pageid=179&teamid=6375',\n",
       " '/?pageid=179&teamid=6372']"
      ]
     },
     "execution_count": 7,
     "metadata": {},
     "output_type": "execute_result"
    }
   ],
   "source": [
    "[href.get('href') for href in teams_statistic_hrefs]"
   ]
  },
  {
   "cell_type": "code",
   "execution_count": 8,
   "metadata": {
    "collapsed": false
   },
   "outputs": [
    {
     "data": {
      "text/plain": [
       "[['/player/41-pronax',\n",
       "  '/player/885-olofmeister',\n",
       "  '/player/3055-flusha',\n",
       "  '/player/3849-jw',\n",
       "  '/player/7528-krimz'],\n",
       " ['/player/429-karrigan',\n",
       "  '/player/2469-cajunb',\n",
       "  '/player/4954-xyp9x',\n",
       "  '/player/7398-dupreeh',\n",
       "  '/player/7592-device'],\n",
       " ['/player/4959-kioshima',\n",
       "  '/player/7167-kennys',\n",
       "  '/player/7168-nbk',\n",
       "  '/player/7322-apex',\n",
       "  '/player/7429-happy'],\n",
       " ['/player/161-taz',\n",
       "  '/player/165-neo',\n",
       "  '/player/317-pashabiceps',\n",
       "  '/player/2553-snax',\n",
       "  '/player/5386-byali'],\n",
       " ['/player/483-edward',\n",
       "  '/player/484-zeus',\n",
       "  '/player/2757-guardian',\n",
       "  '/player/3347-seized',\n",
       "  '/player/7594-flamie'],\n",
       " ['/player/29-f0rest',\n",
       "  '/player/39-get-right',\n",
       "  '/player/695-allu',\n",
       "  '/player/884-xizt',\n",
       "  '/player/7148-friberg'],\n",
       " ['/player/203-n0thing',\n",
       "  '/?pageid=173&playerid=1916',\n",
       "  '/player/7440-skadoodle',\n",
       "  '/player/7808-freakazoid',\n",
       "  '/player/8349-shroud'],\n",
       " ['/player/629-fox',\n",
       "  '/player/1045-maikelele',\n",
       "  '/player/1146-dennis',\n",
       "  '/player/7390-scream',\n",
       "  '/player/8183-rain'],\n",
       " ['/player/3847-znajder',\n",
       "  '/player/7154-pimp',\n",
       "  '/player/7156-msl',\n",
       "  '/player/8095-aizy',\n",
       "  '/player/8394-kjaerbye'],\n",
       " ['/player/136-gob-b',\n",
       "  '/player/2730-chrisj',\n",
       "  '/player/3741-niko',\n",
       "  '/player/7256-nex',\n",
       "  '/player/7511-denis'],\n",
       " ['/?pageid=173&playerid=6451',\n",
       "  '/player/8137-reltuc',\n",
       "  '/player/8346-jdm64',\n",
       "  '/player/8347-hazed',\n",
       "  '/player/8523-tarik'],\n",
       " ['/player/2023-fallen',\n",
       "  '/player/7382-steel',\n",
       "  '/player/8564-fer',\n",
       "  '/player/8568-boltz',\n",
       "  '/player/9216-coldzera'],\n",
       " ['/player/338-markeloff',\n",
       "  '/player/472-b1ad3',\n",
       "  '/player/2131-bondik',\n",
       "  '/player/7403-worldedit',\n",
       "  '/?pageid=173&playerid=8124'],\n",
       " ['/player/2644-hiko',\n",
       "  '/player/7433-adren',\n",
       "  '/player/7687-nitr0',\n",
       "  '/player/8522-fugly',\n",
       "  '/player/8738-elige'],\n",
       " ['/player/1225-shox',\n",
       "  '/player/7166-ex6tenz',\n",
       "  '/player/7169-rpk',\n",
       "  '/player/7170-smithzz',\n",
       "  '/player/7390-scream'],\n",
       " ['/player/2799-bubble',\n",
       "  '/player/3183-spyleader',\n",
       "  '/?pageid=173&playerid=5327',\n",
       "  '/player/7834-v1c7or',\n",
       "  '/player/8412-dream3r'],\n",
       " ['/?pageid=173&playerid=302',\n",
       "  '/player/334-adren',\n",
       "  '/player/339-ange1',\n",
       "  '/player/964-mou',\n",
       "  '/player/7998-s1mple'],\n",
       " ['/player/2555-yam',\n",
       "  '/player/4679-jks',\n",
       "  '/player/8082-azr',\n",
       "  '/?pageid=173&playerid=8083',\n",
       "  '/?pageid=173&playerid=8085'],\n",
       " ['/player/5388-rallen',\n",
       "  '/?pageid=173&playerid=7368',\n",
       "  '/?pageid=173&playerid=7369',\n",
       "  '/player/8327-furlan',\n",
       "  '/?pageid=173&playerid=8570'],\n",
       " ['/?pageid=173&playerid=163',\n",
       "  '/player/973-szpero',\n",
       "  '/player/3669-innocent',\n",
       "  '/player/7356-michu',\n",
       "  '/?pageid=173&playerid=8321']]"
      ]
     },
     "execution_count": 8,
     "metadata": {},
     "output_type": "execute_result"
    }
   ],
   "source": [
    "lineups"
   ]
  },
  {
   "cell_type": "markdown",
   "metadata": {
    "collapsed": true
   },
   "source": [
    "## Match stats"
   ]
  },
  {
   "cell_type": "markdown",
   "metadata": {},
   "source": [
    "### matches pages"
   ]
  },
  {
   "cell_type": "code",
   "execution_count": 4,
   "metadata": {
    "collapsed": true
   },
   "outputs": [],
   "source": [
    "matches_listing_address = '?pageid=188&offset='\n",
    "offsets = list(range(0, 50*570, 50))"
   ]
  },
  {
   "cell_type": "code",
   "execution_count": 33,
   "metadata": {
    "collapsed": false
   },
   "outputs": [
    {
     "name": "stderr",
     "output_type": "stream",
     "text": [
      "100%|████████████████████████████████████████| 570/570 [13:34<00:00,  1.32s/it]\n"
     ]
    }
   ],
   "source": [
    "matches_pages_hrefs = []\n",
    "for offset in tqdm(offsets):\n",
    "    page = requests.get(site_address + matches_listing_address + str(offset))\n",
    "    page_html = html.fromstring(page.content)\n",
    "    matches_pages_hrefs += page_html.xpath('//div[@class=\"centerNoHeadline\"]//div[@class=\"covMainBoxContent\"]//a[1]')\n",
    "    \n",
    "matches_pages_links = [href.get('href') for href in matches_pages_hrefs]"
   ]
  },
  {
   "cell_type": "code",
   "execution_count": 157,
   "metadata": {
    "collapsed": false
   },
   "outputs": [],
   "source": [
    "if 1==0:\n",
    "    with open('matches_pages_links.txt', 'w') as file:\n",
    "        for line in matches_pages_links:\n",
    "            file.write(\"{}\\n\".format(line))"
   ]
  },
  {
   "cell_type": "code",
   "execution_count": 4,
   "metadata": {
    "collapsed": true
   },
   "outputs": [],
   "source": [
    "with open('matches_pages_links.txt', 'r') as file:\n",
    "    matches_pages_links = file.read().splitlines()"
   ]
  },
  {
   "cell_type": "markdown",
   "metadata": {},
   "source": [
    "### match stats"
   ]
  },
  {
   "cell_type": "code",
   "execution_count": 5,
   "metadata": {
    "collapsed": true
   },
   "outputs": [],
   "source": [
    "def get_match_teams(match_page_html):\n",
    "    match_teams = match_page_html.xpath('//div[@class=\"covGroupBoxContent\"]//div[@class=\"covSmallHeadline\"][1]//a')\n",
    "    teams_links = [link.get('href') for link in match_teams]\n",
    "    return [['team one', teams_links[0]], ['team two', teams_links[1]]]"
   ]
  },
  {
   "cell_type": "code",
   "execution_count": 6,
   "metadata": {
    "collapsed": true
   },
   "outputs": [],
   "source": [
    "def href_if_link_else_text(xpath_node):\n",
    "    links = xpath_node.xpath('.//a')\n",
    "    if links:\n",
    "        return links[0].get('href')\n",
    "    else:\n",
    "        return xpath_node.text_content()\n",
    "\n",
    "def three_stats_to_two(stats):\n",
    "    stats = [[[stat[0] + ' player', stat[1]], [stat[0], stat[2]]]for stat in stats]\n",
    "    return [list(stat) for stat in np.concatenate(stats)]\n",
    "    \n",
    "def get_match_main_stats(match_page_html):\n",
    "    match_stats = match_page_html.xpath('//div[@class=\"covGroupBoxContent\"]//div[@class=\"covSmallHeadline\"]')\n",
    "    teams_stats = match_stats[1:17]\n",
    "    players_stats = match_stats[18:]\n",
    "    teams_stats = zip(teams_stats[0::2], teams_stats[1::2])\n",
    "    players_stats = zip(players_stats[0::3], players_stats[1::3], players_stats[2::3])\n",
    "    teams_stats = [[href_if_link_else_text(value) for value in stats] for stats in teams_stats]\n",
    "    players_stats = [[href_if_link_else_text(value) for value in stats] for stats in players_stats]\n",
    "    players_stats = three_stats_to_two(players_stats)\n",
    "    \n",
    "    return teams_stats + players_stats"
   ]
  },
  {
   "cell_type": "code",
   "execution_count": 7,
   "metadata": {
    "collapsed": false
   },
   "outputs": [],
   "source": [
    "def get_match_players_stats(match_page_html):\n",
    "    stats = match_page_html.xpath('//div[@class=\"covMainBoxContent\"]//div[@class=\"covSmallHeadline\"]')\n",
    "    start_index = [node.text_content() for node in stats].index('Raw stats')\n",
    "    stats = stats[start_index:]\n",
    "    if len(stats)//10 == len(stats)/10:\n",
    "        players_stats = zip(*(stats[i::10] for i in range(10)))\n",
    "    else:\n",
    "        players_stats = zip(*(stats[i::9] for i in range(9)))\n",
    "    \n",
    "    col_names, *players_stats = [[href_if_link_else_text(value) for value in stats] for stats in players_stats]\n",
    "    \n",
    "    stats = [[[col_name + ' p_' + str(i), stat] for col_name, stat in zip(col_names, player_stats)] \n",
    "             for i, player_stats in enumerate(players_stats)]\n",
    "    return [list(stat) for stat in np.concatenate(stats)]"
   ]
  },
  {
   "cell_type": "code",
   "execution_count": 8,
   "metadata": {
    "collapsed": false
   },
   "outputs": [],
   "source": [
    "def get_match_stats(match_page_html):\n",
    "    teams = get_match_teams(match_page_html)\n",
    "    main_stats = get_match_main_stats(match_page_html)\n",
    "    players_stats = get_match_players_stats(match_page_html)\n",
    "        \n",
    "    return dict(teams + main_stats + players_stats)"
   ]
  },
  {
   "cell_type": "code",
   "execution_count": 9,
   "metadata": {
    "collapsed": false
   },
   "outputs": [
    {
     "name": "stderr",
     "output_type": "stream",
     "text": [
      "100%|██████████████████████████████████| 28500/28500 [4:35:13<00:00,  2.42it/s]\n"
     ]
    }
   ],
   "source": [
    "matches_stats = []\n",
    "for link in tqdm(matches_pages_links):\n",
    "    match_page_link = site_address + link\n",
    "    flag = False\n",
    "    \n",
    "    while not flag:\n",
    "        try:\n",
    "            match_page = requests.get(match_page_link)\n",
    "            flag = True\n",
    "        except:\n",
    "            pass\n",
    "    \n",
    "    match_page_html = html.fromstring(match_page.content)\n",
    "    matches_stats.append(get_match_stats(match_page_html))"
   ]
  },
  {
   "cell_type": "code",
   "execution_count": 10,
   "metadata": {
    "collapsed": false
   },
   "outputs": [
    {
     "data": {
      "text/plain": [
       "[(100, 5),\n",
       " (110, 12228),\n",
       " (112, 5),\n",
       " (119, 179),\n",
       " (122, 15944),\n",
       " (128, 14),\n",
       " (132, 119),\n",
       " (137, 4),\n",
       " (142, 2)]"
      ]
     },
     "execution_count": 10,
     "metadata": {},
     "output_type": "execute_result"
    }
   ],
   "source": [
    "stats_lens = [len(stats) for stats in matches_stats]\n",
    "stats_lens_unique = np.unique(stats_lens)\n",
    "[(length, stats_lens.count(length)) for length in stats_lens_unique]"
   ]
  },
  {
   "cell_type": "raw",
   "metadata": {},
   "source": [
    "100 - старые матчи, где не хватает статистики для одного игрока\n",
    "110 - старые матчи, где не хватает параметра ADR для 10 икроков и \"Most damage player\" и \"Most damage\" параметров\n",
    "112 - матчи, где не хватает статистики для одного игрока\n",
    "119 - матчи, где играли 7 на 5\n",
    "122 - обычные, хорошие матчи\n",
    "128 - матч с заменами\n",
    "132 - матч с заменами\n",
    "137 - в матчах участвовало 13 человек\n",
    "142 - в матчах участвовало 12 человек"
   ]
  },
  {
   "cell_type": "markdown",
   "metadata": {},
   "source": [
    "## Storing stats to csv"
   ]
  },
  {
   "cell_type": "code",
   "execution_count": 11,
   "metadata": {
    "collapsed": false
   },
   "outputs": [],
   "source": [
    "df = pd.DataFrame([stats for stats in matches_stats if len(stats)==110 or len(stats)==122])\n",
    "df['match page'] = [matches_pages_links[i] for i, stats in enumerate(matches_stats) if len(stats)==110 or len(stats)==122]"
   ]
  },
  {
   "cell_type": "code",
   "execution_count": 12,
   "metadata": {
    "collapsed": false
   },
   "outputs": [
    {
     "data": {
      "text/html": [
       "<div>\n",
       "<table border=\"1\" class=\"dataframe\">\n",
       "  <thead>\n",
       "    <tr style=\"text-align: right;\">\n",
       "      <th></th>\n",
       "      <th>A p_0</th>\n",
       "      <th>A p_1</th>\n",
       "      <th>A p_2</th>\n",
       "      <th>A p_3</th>\n",
       "      <th>A p_4</th>\n",
       "      <th>A p_5</th>\n",
       "      <th>A p_6</th>\n",
       "      <th>A p_7</th>\n",
       "      <th>A p_8</th>\n",
       "      <th>A p_9</th>\n",
       "      <th>...</th>\n",
       "      <th>Team p_4</th>\n",
       "      <th>Team p_5</th>\n",
       "      <th>Team p_6</th>\n",
       "      <th>Team p_7</th>\n",
       "      <th>Team p_8</th>\n",
       "      <th>Team p_9</th>\n",
       "      <th>Team rating</th>\n",
       "      <th>team one</th>\n",
       "      <th>team two</th>\n",
       "      <th>match page</th>\n",
       "    </tr>\n",
       "  </thead>\n",
       "  <tbody>\n",
       "    <tr>\n",
       "      <th>0</th>\n",
       "      <td>3</td>\n",
       "      <td>6</td>\n",
       "      <td>1</td>\n",
       "      <td>0</td>\n",
       "      <td>1</td>\n",
       "      <td>3</td>\n",
       "      <td>5</td>\n",
       "      <td>2</td>\n",
       "      <td>4</td>\n",
       "      <td>1</td>\n",
       "      <td>...</td>\n",
       "      <td>/?pageid=179&amp;teamid=7397</td>\n",
       "      <td>/?pageid=179&amp;teamid=4688</td>\n",
       "      <td>/?pageid=179&amp;teamid=4688</td>\n",
       "      <td>/?pageid=179&amp;teamid=4688</td>\n",
       "      <td>/?pageid=179&amp;teamid=4688</td>\n",
       "      <td>/?pageid=179&amp;teamid=7397</td>\n",
       "      <td>0.81 : 1.20</td>\n",
       "      <td>/?pageid=179&amp;teamid=4688</td>\n",
       "      <td>/?pageid=179&amp;teamid=7397</td>\n",
       "      <td>/?pageid=188&amp;matchid=46149</td>\n",
       "    </tr>\n",
       "    <tr>\n",
       "      <th>1</th>\n",
       "      <td>3</td>\n",
       "      <td>3</td>\n",
       "      <td>4</td>\n",
       "      <td>4</td>\n",
       "      <td>4</td>\n",
       "      <td>2</td>\n",
       "      <td>4</td>\n",
       "      <td>6</td>\n",
       "      <td>2</td>\n",
       "      <td>2</td>\n",
       "      <td>...</td>\n",
       "      <td>/?pageid=179&amp;teamid=4688</td>\n",
       "      <td>/?pageid=179&amp;teamid=4688</td>\n",
       "      <td>/?pageid=179&amp;teamid=4688</td>\n",
       "      <td>/?pageid=179&amp;teamid=7397</td>\n",
       "      <td>/?pageid=179&amp;teamid=4688</td>\n",
       "      <td>/?pageid=179&amp;teamid=4688</td>\n",
       "      <td>1.27 : 0.73</td>\n",
       "      <td>/?pageid=179&amp;teamid=7397</td>\n",
       "      <td>/?pageid=179&amp;teamid=4688</td>\n",
       "      <td>/?pageid=188&amp;matchid=46147</td>\n",
       "    </tr>\n",
       "    <tr>\n",
       "      <th>2</th>\n",
       "      <td>3</td>\n",
       "      <td>3</td>\n",
       "      <td>7</td>\n",
       "      <td>3</td>\n",
       "      <td>5</td>\n",
       "      <td>6</td>\n",
       "      <td>6</td>\n",
       "      <td>2</td>\n",
       "      <td>5</td>\n",
       "      <td>4</td>\n",
       "      <td>...</td>\n",
       "      <td>/?pageid=179&amp;teamid=7897</td>\n",
       "      <td>/?pageid=179&amp;teamid=7897</td>\n",
       "      <td>/?pageid=179&amp;teamid=6745</td>\n",
       "      <td>/?pageid=179&amp;teamid=6745</td>\n",
       "      <td>/?pageid=179&amp;teamid=6745</td>\n",
       "      <td>/?pageid=179&amp;teamid=6745</td>\n",
       "      <td>0.84 : 1.11</td>\n",
       "      <td>/?pageid=179&amp;teamid=6745</td>\n",
       "      <td>/?pageid=179&amp;teamid=7897</td>\n",
       "      <td>/?pageid=188&amp;matchid=46148</td>\n",
       "    </tr>\n",
       "    <tr>\n",
       "      <th>3</th>\n",
       "      <td>5</td>\n",
       "      <td>3</td>\n",
       "      <td>4</td>\n",
       "      <td>4</td>\n",
       "      <td>5</td>\n",
       "      <td>3</td>\n",
       "      <td>3</td>\n",
       "      <td>4</td>\n",
       "      <td>0</td>\n",
       "      <td>3</td>\n",
       "      <td>...</td>\n",
       "      <td>/?pageid=179&amp;teamid=7897</td>\n",
       "      <td>/?pageid=179&amp;teamid=7897</td>\n",
       "      <td>/?pageid=179&amp;teamid=6745</td>\n",
       "      <td>/?pageid=179&amp;teamid=6745</td>\n",
       "      <td>/?pageid=179&amp;teamid=6745</td>\n",
       "      <td>/?pageid=179&amp;teamid=6745</td>\n",
       "      <td>1.21 : 0.78</td>\n",
       "      <td>/?pageid=179&amp;teamid=7897</td>\n",
       "      <td>/?pageid=179&amp;teamid=6745</td>\n",
       "      <td>/?pageid=188&amp;matchid=46146</td>\n",
       "    </tr>\n",
       "    <tr>\n",
       "      <th>4</th>\n",
       "      <td>5</td>\n",
       "      <td>4</td>\n",
       "      <td>2</td>\n",
       "      <td>3</td>\n",
       "      <td>4</td>\n",
       "      <td>5</td>\n",
       "      <td>0</td>\n",
       "      <td>1</td>\n",
       "      <td>5</td>\n",
       "      <td>4</td>\n",
       "      <td>...</td>\n",
       "      <td>/?pageid=179&amp;teamid=5973</td>\n",
       "      <td>/?pageid=179&amp;teamid=5973</td>\n",
       "      <td>/?pageid=179&amp;teamid=5752</td>\n",
       "      <td>/?pageid=179&amp;teamid=5752</td>\n",
       "      <td>/?pageid=179&amp;teamid=5752</td>\n",
       "      <td>/?pageid=179&amp;teamid=5752</td>\n",
       "      <td>0.79 : 1.20</td>\n",
       "      <td>/?pageid=179&amp;teamid=5752</td>\n",
       "      <td>/?pageid=179&amp;teamid=5973</td>\n",
       "      <td>/?pageid=188&amp;matchid=46145</td>\n",
       "    </tr>\n",
       "  </tbody>\n",
       "</table>\n",
       "<p>5 rows × 123 columns</p>\n",
       "</div>"
      ],
      "text/plain": [
       "  A p_0 A p_1 A p_2 A p_3 A p_4 A p_5 A p_6 A p_7 A p_8 A p_9  \\\n",
       "0     3     6     1     0     1     3     5     2     4     1   \n",
       "1     3     3     4     4     4     2     4     6     2     2   \n",
       "2     3     3     7     3     5     6     6     2     5     4   \n",
       "3     5     3     4     4     5     3     3     4     0     3   \n",
       "4     5     4     2     3     4     5     0     1     5     4   \n",
       "\n",
       "              ...                              Team p_4  \\\n",
       "0             ...              /?pageid=179&teamid=7397   \n",
       "1             ...              /?pageid=179&teamid=4688   \n",
       "2             ...              /?pageid=179&teamid=7897   \n",
       "3             ...              /?pageid=179&teamid=7897   \n",
       "4             ...              /?pageid=179&teamid=5973   \n",
       "\n",
       "                   Team p_5                  Team p_6  \\\n",
       "0  /?pageid=179&teamid=4688  /?pageid=179&teamid=4688   \n",
       "1  /?pageid=179&teamid=4688  /?pageid=179&teamid=4688   \n",
       "2  /?pageid=179&teamid=7897  /?pageid=179&teamid=6745   \n",
       "3  /?pageid=179&teamid=7897  /?pageid=179&teamid=6745   \n",
       "4  /?pageid=179&teamid=5973  /?pageid=179&teamid=5752   \n",
       "\n",
       "                   Team p_7                  Team p_8  \\\n",
       "0  /?pageid=179&teamid=4688  /?pageid=179&teamid=4688   \n",
       "1  /?pageid=179&teamid=7397  /?pageid=179&teamid=4688   \n",
       "2  /?pageid=179&teamid=6745  /?pageid=179&teamid=6745   \n",
       "3  /?pageid=179&teamid=6745  /?pageid=179&teamid=6745   \n",
       "4  /?pageid=179&teamid=5752  /?pageid=179&teamid=5752   \n",
       "\n",
       "                   Team p_9  Team rating                  team one  \\\n",
       "0  /?pageid=179&teamid=7397  0.81 : 1.20  /?pageid=179&teamid=4688   \n",
       "1  /?pageid=179&teamid=4688  1.27 : 0.73  /?pageid=179&teamid=7397   \n",
       "2  /?pageid=179&teamid=6745  0.84 : 1.11  /?pageid=179&teamid=6745   \n",
       "3  /?pageid=179&teamid=6745  1.21 : 0.78  /?pageid=179&teamid=7897   \n",
       "4  /?pageid=179&teamid=5752  0.79 : 1.20  /?pageid=179&teamid=5752   \n",
       "\n",
       "                   team two                  match page  \n",
       "0  /?pageid=179&teamid=7397  /?pageid=188&matchid=46149  \n",
       "1  /?pageid=179&teamid=4688  /?pageid=188&matchid=46147  \n",
       "2  /?pageid=179&teamid=7897  /?pageid=188&matchid=46148  \n",
       "3  /?pageid=179&teamid=6745  /?pageid=188&matchid=46146  \n",
       "4  /?pageid=179&teamid=5973  /?pageid=188&matchid=46145  \n",
       "\n",
       "[5 rows x 123 columns]"
      ]
     },
     "execution_count": 12,
     "metadata": {},
     "output_type": "execute_result"
    }
   ],
   "source": [
    "df.head(5)"
   ]
  },
  {
   "cell_type": "code",
   "execution_count": 24,
   "metadata": {
    "collapsed": true
   },
   "outputs": [],
   "source": [
    "df.to_csv('data.csv', index=False)"
   ]
  },
  {
   "cell_type": "code",
   "execution_count": 22,
   "metadata": {
    "collapsed": false
   },
   "outputs": [
    {
     "data": {
      "text/plain": [
       "(5, 123)"
      ]
     },
     "execution_count": 22,
     "metadata": {},
     "output_type": "execute_result"
    }
   ],
   "source": [
    "pd.read_csv('data.csv', index_col=False).shape"
   ]
  },
  {
   "cell_type": "code",
   "execution_count": 23,
   "metadata": {
    "collapsed": false
   },
   "outputs": [
    {
     "data": {
      "text/plain": [
       "(5, 123)"
      ]
     },
     "execution_count": 23,
     "metadata": {},
     "output_type": "execute_result"
    }
   ],
   "source": [
    "df.head(5).shape"
   ]
  },
  {
   "cell_type": "code",
   "execution_count": null,
   "metadata": {
    "collapsed": true
   },
   "outputs": [],
   "source": []
  }
 ],
 "metadata": {
  "anaconda-cloud": {},
  "kernelspec": {
   "display_name": "Python 3",
   "language": "python",
   "name": "python3"
  },
  "language_info": {
   "codemirror_mode": {
    "name": "ipython",
    "version": 3
   },
   "file_extension": ".py",
   "mimetype": "text/x-python",
   "name": "python",
   "nbconvert_exporter": "python",
   "pygments_lexer": "ipython3",
   "version": "3.6.0"
  }
 },
 "nbformat": 4,
 "nbformat_minor": 0
}
