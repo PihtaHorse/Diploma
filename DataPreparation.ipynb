{
 "cells": [
  {
   "cell_type": "code",
   "execution_count": 1,
   "metadata": {
    "collapsed": true
   },
   "outputs": [],
   "source": [
    "# сколько матчей провел в команде игрок\n",
    "# какая это игра по счету в турнире(можно попробовать нормализовать)\n",
    "#"
   ]
  },
  {
   "cell_type": "code",
   "execution_count": 2,
   "metadata": {
    "collapsed": false
   },
   "outputs": [],
   "source": [
    "import pandas as pd\n",
    "import numpy as np\n",
    "import re\n",
    "import matplotlib\n",
    "import matplotlib.pyplot as plt"
   ]
  },
  {
   "cell_type": "code",
   "execution_count": 3,
   "metadata": {
    "collapsed": false
   },
   "outputs": [
    {
     "name": "stderr",
     "output_type": "stream",
     "text": [
      "D:\\Anaconda3\\lib\\site-packages\\IPython\\core\\interactiveshell.py:2717: DtypeWarning: Columns (85) have mixed types. Specify dtype option on import or set low_memory=False.\n",
      "  interactivity=interactivity, compiler=compiler, result=result)\n"
     ]
    }
   ],
   "source": [
    "data = pd.read_csv('data.csv')"
   ]
  },
  {
   "cell_type": "markdown",
   "metadata": {},
   "source": [
    "# Пропуски в данных"
   ]
  },
  {
   "cell_type": "code",
   "execution_count": 4,
   "metadata": {
    "collapsed": false
   },
   "outputs": [
    {
     "data": {
      "text/plain": [
       "['ADR p_0',\n",
       " 'ADR p_1',\n",
       " 'ADR p_2',\n",
       " 'ADR p_3',\n",
       " 'ADR p_4',\n",
       " 'ADR p_5',\n",
       " 'ADR p_6',\n",
       " 'ADR p_7',\n",
       " 'ADR p_8',\n",
       " 'ADR p_9',\n",
       " 'K/D p_0',\n",
       " 'K/D p_1',\n",
       " 'K/D p_2',\n",
       " 'Most damage',\n",
       " 'Most damage player']"
      ]
     },
     "execution_count": 4,
     "metadata": {},
     "output_type": "execute_result"
    }
   ],
   "source": [
    "data.columns[data.isnull().any()].tolist()"
   ]
  },
  {
   "cell_type": "code",
   "execution_count": 5,
   "metadata": {
    "collapsed": false
   },
   "outputs": [
    {
     "data": {
      "text/html": [
       "<div>\n",
       "<table border=\"1\" class=\"dataframe\">\n",
       "  <thead>\n",
       "    <tr style=\"text-align: right;\">\n",
       "      <th></th>\n",
       "      <th>K/D p_0</th>\n",
       "      <th>K/D p_1</th>\n",
       "      <th>K/D p_2</th>\n",
       "      <th>match page</th>\n",
       "    </tr>\n",
       "  </thead>\n",
       "  <tbody>\n",
       "    <tr>\n",
       "      <th>1548</th>\n",
       "      <td>4.6</td>\n",
       "      <td>8.50</td>\n",
       "      <td>NaN</td>\n",
       "      <td>/?pageid=188&amp;matchid=44656</td>\n",
       "    </tr>\n",
       "    <tr>\n",
       "      <th>4723</th>\n",
       "      <td>NaN</td>\n",
       "      <td>23.00</td>\n",
       "      <td>1.86</td>\n",
       "      <td>/?pageid=188&amp;matchid=40753</td>\n",
       "    </tr>\n",
       "    <tr>\n",
       "      <th>14200</th>\n",
       "      <td>NaN</td>\n",
       "      <td>3.00</td>\n",
       "      <td>3.40</td>\n",
       "      <td>/?pageid=188&amp;matchid=29248</td>\n",
       "    </tr>\n",
       "    <tr>\n",
       "      <th>23305</th>\n",
       "      <td>NaN</td>\n",
       "      <td>3.33</td>\n",
       "      <td>2.50</td>\n",
       "      <td>/?pageid=188&amp;matchid=19195</td>\n",
       "    </tr>\n",
       "    <tr>\n",
       "      <th>25021</th>\n",
       "      <td>NaN</td>\n",
       "      <td>4.00</td>\n",
       "      <td>1.27</td>\n",
       "      <td>/?pageid=188&amp;matchid=17229</td>\n",
       "    </tr>\n",
       "    <tr>\n",
       "      <th>25216</th>\n",
       "      <td>4.5</td>\n",
       "      <td>NaN</td>\n",
       "      <td>3.75</td>\n",
       "      <td>/?pageid=188&amp;matchid=17025</td>\n",
       "    </tr>\n",
       "  </tbody>\n",
       "</table>\n",
       "</div>"
      ],
      "text/plain": [
       "       K/D p_0  K/D p_1  K/D p_2                  match page\n",
       "1548       4.6     8.50      NaN  /?pageid=188&matchid=44656\n",
       "4723       NaN    23.00     1.86  /?pageid=188&matchid=40753\n",
       "14200      NaN     3.00     3.40  /?pageid=188&matchid=29248\n",
       "23305      NaN     3.33     2.50  /?pageid=188&matchid=19195\n",
       "25021      NaN     4.00     1.27  /?pageid=188&matchid=17229\n",
       "25216      4.5      NaN     3.75  /?pageid=188&matchid=17025"
      ]
     },
     "execution_count": 5,
     "metadata": {},
     "output_type": "execute_result"
    }
   ],
   "source": [
    "problem_columns = data[['K/D p_0', 'K/D p_1', 'K/D p_2', 'match page']]\n",
    "problem_columns[problem_columns.isnull().any(axis=1)]"
   ]
  },
  {
   "cell_type": "raw",
   "metadata": {},
   "source": [
    "Это те матчи, где показатель D(deathes-смерти) равен нулю."
   ]
  },
  {
   "cell_type": "markdown",
   "metadata": {},
   "source": [
    "# Data Preparation"
   ]
  },
  {
   "cell_type": "code",
   "execution_count": 6,
   "metadata": {
    "collapsed": true
   },
   "outputs": [],
   "source": [
    "matches_stats = pd.DataFrame(index=data.index)"
   ]
  },
  {
   "cell_type": "code",
   "execution_count": 7,
   "metadata": {
    "collapsed": false,
    "scrolled": true
   },
   "outputs": [
    {
     "name": "stdout",
     "output_type": "stream",
     "text": [
      "A p_0\n",
      "A p_1\n",
      "A p_2\n",
      "A p_3\n",
      "A p_4\n",
      "A p_5\n",
      "A p_6\n",
      "A p_7\n",
      "A p_8\n",
      "A p_9\n",
      "ADR p_0\n",
      "ADR p_1\n",
      "ADR p_2\n",
      "ADR p_3\n",
      "ADR p_4\n",
      "ADR p_5\n",
      "ADR p_6\n",
      "ADR p_7\n",
      "ADR p_8\n",
      "ADR p_9\n",
      "Best rating\n",
      "Best rating player\n",
      "Clutches won\n",
      "D p_0\n",
      "D p_1\n",
      "D p_2\n",
      "D p_3\n",
      "D p_4\n",
      "D p_5\n",
      "D p_6\n",
      "D p_7\n",
      "D p_8\n",
      "D p_9\n",
      "Event\n",
      "FK Diff p_0\n",
      "FK Diff p_1\n",
      "FK Diff p_2\n",
      "FK Diff p_3\n",
      "FK Diff p_4\n",
      "FK Diff p_5\n",
      "FK Diff p_6\n",
      "FK Diff p_7\n",
      "FK Diff p_8\n",
      "FK Diff p_9\n",
      "First kills\n",
      "Game score\n",
      "K (HS) p_0\n",
      "K (HS) p_1\n",
      "K (HS) p_2\n",
      "K (HS) p_3\n",
      "K (HS) p_4\n",
      "K (HS) p_5\n",
      "K (HS) p_6\n",
      "K (HS) p_7\n",
      "K (HS) p_8\n",
      "K (HS) p_9\n",
      "K/D Diff p_0\n",
      "K/D Diff p_1\n",
      "K/D Diff p_2\n",
      "K/D Diff p_3\n",
      "K/D Diff p_4\n",
      "K/D Diff p_5\n",
      "K/D Diff p_6\n",
      "K/D Diff p_7\n",
      "K/D Diff p_8\n",
      "K/D Diff p_9\n",
      "K/D p_0\n",
      "K/D p_1\n",
      "K/D p_2\n",
      "K/D p_3\n",
      "K/D p_4\n",
      "K/D p_5\n",
      "K/D p_6\n",
      "K/D p_7\n",
      "K/D p_8\n",
      "K/D p_9\n",
      "Map\n",
      "More info\n",
      "Most AWP kills\n",
      "Most AWP kills player\n",
      "Most Kills\n",
      "Most Kills player\n",
      "Most assists\n",
      "Most assists player\n",
      "Most damage\n",
      "Most damage player\n",
      "Most first kills\n",
      "Most first kills player\n",
      "Played\n",
      "Rating p_0\n",
      "Rating p_1\n",
      "Rating p_2\n",
      "Rating p_3\n",
      "Rating p_4\n",
      "Rating p_5\n",
      "Rating p_6\n",
      "Rating p_7\n",
      "Rating p_8\n",
      "Rating p_9\n",
      "Raw stats p_0\n",
      "Raw stats p_1\n",
      "Raw stats p_2\n",
      "Raw stats p_3\n",
      "Raw stats p_4\n",
      "Raw stats p_5\n",
      "Raw stats p_6\n",
      "Raw stats p_7\n",
      "Raw stats p_8\n",
      "Raw stats p_9\n",
      "Team p_0\n",
      "Team p_1\n",
      "Team p_2\n",
      "Team p_3\n",
      "Team p_4\n",
      "Team p_5\n",
      "Team p_6\n",
      "Team p_7\n",
      "Team p_8\n",
      "Team p_9\n",
      "Team rating\n",
      "team one\n",
      "team two\n",
      "match page\n"
     ]
    }
   ],
   "source": [
    "for col in data.columns:\n",
    "    print(col)"
   ]
  },
  {
   "cell_type": "markdown",
   "metadata": {},
   "source": [
    "## A(assists)"
   ]
  },
  {
   "cell_type": "code",
   "execution_count": 8,
   "metadata": {
    "collapsed": false
   },
   "outputs": [],
   "source": [
    "for i in range(10):\n",
    "    matches_stats['assists_p{}'.format(i)] = data['A p_{}'.format(i)]"
   ]
  },
  {
   "cell_type": "markdown",
   "metadata": {},
   "source": [
    "## ADR (Average Damage Rating)"
   ]
  },
  {
   "cell_type": "code",
   "execution_count": 9,
   "metadata": {
    "collapsed": true
   },
   "outputs": [],
   "source": [
    "for i in range(10):\n",
    "    matches_stats['adr_p{}'.format(i)] = data['ADR p_{}'.format(i)]"
   ]
  },
  {
   "cell_type": "markdown",
   "metadata": {},
   "source": [
    "## Clutches won"
   ]
  },
  {
   "cell_type": "code",
   "execution_count": 10,
   "metadata": {
    "collapsed": false
   },
   "outputs": [],
   "source": [
    "def parse_clutches(x):\n",
    "    cw_t1, cw_t2 = x.replace(' ', '').split(':')\n",
    "    return float(cw_t1), float(cw_t2)\n",
    "    \n",
    "clutches = data['Clutches won'].apply(parse_clutches)\n",
    "matches_stats['clutches_t1'], matches_stats['clutches_t2'] = zip(*clutches)"
   ]
  },
  {
   "cell_type": "markdown",
   "metadata": {},
   "source": [
    "## D (deaths)"
   ]
  },
  {
   "cell_type": "code",
   "execution_count": 11,
   "metadata": {
    "collapsed": false
   },
   "outputs": [],
   "source": [
    "for i in range(10):\n",
    "    matches_stats['deaths_p{}'.format(i)] = data['D p_{}'.format(i)]"
   ]
  },
  {
   "cell_type": "markdown",
   "metadata": {},
   "source": [
    "## Event"
   ]
  },
  {
   "cell_type": "code",
   "execution_count": 12,
   "metadata": {
    "collapsed": false
   },
   "outputs": [],
   "source": [
    "matches_stats['event_id'] = data['Event'].apply(lambda s: float(s.split('=')[-1]))"
   ]
  },
  {
   "cell_type": "markdown",
   "metadata": {},
   "source": [
    "## FK Diff"
   ]
  },
  {
   "cell_type": "code",
   "execution_count": 13,
   "metadata": {
    "collapsed": false
   },
   "outputs": [],
   "source": [
    "for i in range(10):\n",
    "    matches_stats['fk_diff_p{}'.format(i)] = data['FK Diff p_{}'.format(i)]"
   ]
  },
  {
   "cell_type": "markdown",
   "metadata": {},
   "source": [
    "## FK(teams first kills)"
   ]
  },
  {
   "cell_type": "code",
   "execution_count": 14,
   "metadata": {
    "collapsed": false
   },
   "outputs": [],
   "source": [
    "def parse_first_kills(x):\n",
    "    fk_t1, fk_t2 = x.split(':')\n",
    "    return float(fk_t1), float(fk_t2)\n",
    "    \n",
    "first_kills = data['First kills'].apply(parse_first_kills)\n",
    "matches_stats['firstkills_t1'], matches_stats['firstkills_t2'] = zip(*first_kills)"
   ]
  },
  {
   "cell_type": "markdown",
   "metadata": {},
   "source": [
    "## Game score"
   ]
  },
  {
   "cell_type": "code",
   "execution_count": 15,
   "metadata": {
    "collapsed": false
   },
   "outputs": [],
   "source": [
    "def parse_score(x):\n",
    "    try:\n",
    "        scores = x.replace('(', '').replace(')', '')\n",
    "        scores = [s.split(':') for s in scores.split()]\n",
    "        scores = [(float(s[0]), float(s[1])) for s in scores]\n",
    "        if len(scores) == 3:\n",
    "            scores.append((0., 0.))\n",
    "    except:\n",
    "        print(x)\n",
    "        \n",
    "    return [x for s in scores for x in s]\n",
    "\n",
    "data.iloc[19684, data.columns.get_loc('Game score')] = '7:16 (5:10) (2:6)'\n",
    "data.iloc[19686, data.columns.get_loc('Game score')] = '16:13 (11:4) (5:9)'\n",
    "\n",
    "(matches_stats['score_t1'], matches_stats['score_t2'], \n",
    " matches_stats['score_fh_t1'], matches_stats['score_fh_t2'], \n",
    " matches_stats['score_sh_t1'], matches_stats['score_sh_t2'], \n",
    " matches_stats['score_er_t1'], matches_stats['score_er_t2']) = zip(*data['Game score'].apply(parse_score))"
   ]
  },
  {
   "cell_type": "markdown",
   "metadata": {},
   "source": [
    "## K (HS) - kills and headshots"
   ]
  },
  {
   "cell_type": "code",
   "execution_count": 16,
   "metadata": {
    "collapsed": false
   },
   "outputs": [],
   "source": [
    "def parse_kills_and_hs(x):\n",
    "    x = x.replace('(', '').replace(')', '')\n",
    "    kills, hs = x.split()\n",
    "    return float(kills), float(hs)\n",
    "\n",
    "for i in range(10):\n",
    "    kills_and_hs = data['K (HS) p_{}'.format(i)].apply(parse_kills_and_hs)\n",
    "    matches_stats['kills_p{}'.format(i)], matches_stats['headshots_p{}'.format(i)] = zip(*kills_and_hs)"
   ]
  },
  {
   "cell_type": "markdown",
   "metadata": {},
   "source": [
    "## Map"
   ]
  },
  {
   "cell_type": "code",
   "execution_count": 17,
   "metadata": {
    "collapsed": false
   },
   "outputs": [],
   "source": [
    "matches_stats['Map'] = data['Map'].apply(lambda s: re.sub(r'_.*$', '', s))"
   ]
  },
  {
   "cell_type": "code",
   "execution_count": 18,
   "metadata": {
    "collapsed": false
   },
   "outputs": [
    {
     "data": {
      "image/png": "[encoded data removed]",
      "text/plain": [
       "<matplotlib.figure.Figure at 0x270c250c940>"
      ]
     },
     "metadata": {},
     "output_type": "display_data"
    }
   ],
   "source": [
    "maps_counts = matches_stats['Map'].value_counts()\n",
    "maps_counts = maps_counts.sort_values()\n",
    "maps_counts.plot(kind='barh')\n",
    "plt.show()"
   ]
  },
  {
   "cell_type": "markdown",
   "metadata": {},
   "source": [
    "## Played"
   ]
  },
  {
   "cell_type": "code",
   "execution_count": 19,
   "metadata": {
    "collapsed": false
   },
   "outputs": [],
   "source": [
    "matches_stats['time'] = data['Played']"
   ]
  },
  {
   "cell_type": "markdown",
   "metadata": {},
   "source": [
    "## Rating"
   ]
  },
  {
   "cell_type": "code",
   "execution_count": 20,
   "metadata": {
    "collapsed": false
   },
   "outputs": [],
   "source": [
    "for i in range(10):\n",
    "    matches_stats['rating_p{}'.format(i)] = data['Rating p_{}'.format(i)]"
   ]
  },
  {
   "cell_type": "markdown",
   "metadata": {},
   "source": [
    "## Raw stats - player id"
   ]
  },
  {
   "cell_type": "code",
   "execution_count": 21,
   "metadata": {
    "collapsed": true
   },
   "outputs": [],
   "source": [
    "for i in range(10):\n",
    "    matches_stats['p{}_id'.format(i)] = data['Raw stats p_{}'.format(i)].apply(lambda s: int(s.split('=')[-1]))"
   ]
  },
  {
   "cell_type": "markdown",
   "metadata": {},
   "source": [
    "## Team - teams ids"
   ]
  },
  {
   "cell_type": "code",
   "execution_count": 22,
   "metadata": {
    "collapsed": true
   },
   "outputs": [],
   "source": [
    "matches_stats['t1_id'] = data['team one'].apply(lambda s: int(s.split('=')[-1]))\n",
    "matches_stats['t2_id'] = data['team two'].apply(lambda s: int(s.split('=')[-1]))"
   ]
  },
  {
   "cell_type": "markdown",
   "metadata": {},
   "source": [
    "# Сохранить результаты"
   ]
  },
  {
   "cell_type": "code",
   "execution_count": 23,
   "metadata": {
    "collapsed": false
   },
   "outputs": [],
   "source": [
    "matches_stats.to_csv('data_prepared.csv', index=False)"
   ]
  },
  {
   "cell_type": "code",
   "execution_count": null,
   "metadata": {
    "collapsed": true
   },
   "outputs": [],
   "source": []
  }
 ],
 "metadata": {
  "kernelspec": {
   "display_name": "Python 3",
   "language": "python",
   "name": "python3"
  },
  "language_info": {
   "codemirror_mode": {
    "name": "ipython",
    "version": 3
   },
   "file_extension": ".py",
   "mimetype": "text/x-python",
   "name": "python",
   "nbconvert_exporter": "python",
   "pygments_lexer": "ipython3",
   "version": "3.6.0"
  }
 },
 "nbformat": 4,
 "nbformat_minor": 2
}
